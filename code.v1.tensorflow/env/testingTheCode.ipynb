{
 "cells": [
  {
   "cell_type": "code",
   "execution_count": null,
   "metadata": {},
   "outputs": [],
   "source": [
    "import pandas as pd\n",
    "import numpy as np\n",
    "filePath = \"C:\\Users\\anish\\Desktop\\AnomalyDetection\\exp-anomaly-detector-master\\env\\time_series_repo\\A1Benchmark\"\n",
    "df = pd.read_csv(self.repodirext[i], usecols=[1,3], header=0, names=['value','anomaly'])"
   ]
  }
 ],
 "metadata": {
  "kernelspec": {
   "display_name": "Python 3",
   "language": "python",
   "name": "python3"
  },
  "language_info": {
   "codemirror_mode": {
    "name": "ipython",
    "version": 3
   },
   "file_extension": ".py",
   "mimetype": "text/x-python",
   "name": "python",
   "nbconvert_exporter": "python",
   "pygments_lexer": "ipython3",
   "version": "3.7.3"
  }
 },
 "nbformat": 4,
 "nbformat_minor": 2
}
